{
 "cells": [
  {
   "cell_type": "code",
   "execution_count": 1,
   "metadata": {
    "id": "bSWG8R4gn4SL"
   },
   "outputs": [],
   "source": [
    "import tweepy\n",
    "import datetime\n",
    "from tweepy import Cursor\n",
    "\n",
    "consumer_key = \"RJu751Asy2vHaUaFSLGtGxWhx\"\n",
    "consumer_secret = \"wvf4GLYEzP1Die5MRKd6DK1d0FCWiJKnMLJP1aQ7H28QBfIDRm\" \n",
    "access_token = \"1314603303796383746-hLWMOuVjFen5LOPQ7R600uJ6c38alm\"\n",
    "access_token_secret = \"ZiLQteu4MuHxkKCjhaF0Oqt1znwDrkI37AdONbODVtFe8\"\n",
    "\n",
    "auth = tweepy.OAuthHandler(consumer_key, consumer_secret)\n",
    "auth.set_access_token(access_token, access_token_secret)\n",
    "\n",
    "api = tweepy.API(auth)"
   ]
  },
  {
   "cell_type": "code",
   "execution_count": 2,
   "metadata": {
    "id": "sqRNmLSNoBef"
   },
   "outputs": [],
   "source": [
    "def extract_tweets(query):\n",
    "    tweets=[]\n",
    "    for status in Cursor(api.search,lang=\"en\",\n",
    "                     q=query, tweet_mode = 'extended', retweet_mode = 'extended', truncated=False).items(2500):\n",
    "        tweets.append(status)\n",
    "    return tweets"
   ]
  },
  {
   "cell_type": "code",
   "execution_count": 3,
   "metadata": {
    "id": "pFPoeXZEoD--"
   },
   "outputs": [],
   "source": [
    "search_keywords = \"Storm OR Winter OR Canada OR Temperature OR Flu OR Snow OR Indoor OR Safety\"\n",
    "tweets = extract_tweets(search_keywords)"
   ]
  },
  {
   "cell_type": "code",
   "execution_count": 4,
   "metadata": {
    "colab": {
     "base_uri": "https://localhost:8080/"
    },
    "id": "UEigbvUIoJmo",
    "outputId": "0ea0f2f8-ba86-455c-a9d0-32cf9cd65a6c"
   },
   "outputs": [
    {
     "name": "stdout",
     "output_type": "stream",
     "text": [
      "2020-12-05 21:05:04\n"
     ]
    }
   ],
   "source": [
    "timeOfTweets=[]\n",
    "print(tweets[0].created_at)\n",
    "for tweet in tweets:\n",
    "    timeOfTweets.append(tweet.created_at) "
   ]
  },
  {
   "cell_type": "code",
   "execution_count": 5,
   "metadata": {
    "id": "HveRR3jOo1X4"
   },
   "outputs": [],
   "source": [
    "createdAtdata = []\n",
    "for timeformat in timeOfTweets:\n",
    "  time = {\n",
    "      \"timestamp\": \"\"\n",
    "  }\n",
    "  timestamp = datetime.datetime.timestamp(timeformat)\n",
    "  time[\"timestamp\"] = timestamp\n",
    "  createdAtdata.append(time)"
   ]
  },
  {
   "cell_type": "code",
   "execution_count": 6,
   "metadata": {
    "id": "Qe2uwfxipZwv"
   },
   "outputs": [],
   "source": [
    "import pandas as pd\n",
    "df = pd.DataFrame(createdAtdata)"
   ]
  },
  {
   "cell_type": "code",
   "execution_count": 7,
   "metadata": {
    "colab": {
     "base_uri": "https://localhost:8080/",
     "height": 419
    },
    "id": "q-MiCld2uXoY",
    "outputId": "9a488f1a-a9d9-47de-e072-abefdf448f04"
   },
   "outputs": [
    {
     "data": {
      "text/html": [
       "<div>\n",
       "<style scoped>\n",
       "    .dataframe tbody tr th:only-of-type {\n",
       "        vertical-align: middle;\n",
       "    }\n",
       "\n",
       "    .dataframe tbody tr th {\n",
       "        vertical-align: top;\n",
       "    }\n",
       "\n",
       "    .dataframe thead th {\n",
       "        text-align: right;\n",
       "    }\n",
       "</style>\n",
       "<table border=\"1\" class=\"dataframe\">\n",
       "  <thead>\n",
       "    <tr style=\"text-align: right;\">\n",
       "      <th></th>\n",
       "      <th>timestamp</th>\n",
       "    </tr>\n",
       "  </thead>\n",
       "  <tbody>\n",
       "    <tr>\n",
       "      <th>0</th>\n",
       "      <td>1.607202e+09</td>\n",
       "    </tr>\n",
       "    <tr>\n",
       "      <th>1</th>\n",
       "      <td>1.607202e+09</td>\n",
       "    </tr>\n",
       "    <tr>\n",
       "      <th>2</th>\n",
       "      <td>1.607202e+09</td>\n",
       "    </tr>\n",
       "    <tr>\n",
       "      <th>3</th>\n",
       "      <td>1.607202e+09</td>\n",
       "    </tr>\n",
       "    <tr>\n",
       "      <th>4</th>\n",
       "      <td>1.607202e+09</td>\n",
       "    </tr>\n",
       "    <tr>\n",
       "      <th>...</th>\n",
       "      <td>...</td>\n",
       "    </tr>\n",
       "    <tr>\n",
       "      <th>995</th>\n",
       "      <td>1.607202e+09</td>\n",
       "    </tr>\n",
       "    <tr>\n",
       "      <th>996</th>\n",
       "      <td>1.607202e+09</td>\n",
       "    </tr>\n",
       "    <tr>\n",
       "      <th>997</th>\n",
       "      <td>1.607202e+09</td>\n",
       "    </tr>\n",
       "    <tr>\n",
       "      <th>998</th>\n",
       "      <td>1.607202e+09</td>\n",
       "    </tr>\n",
       "    <tr>\n",
       "      <th>999</th>\n",
       "      <td>1.607202e+09</td>\n",
       "    </tr>\n",
       "  </tbody>\n",
       "</table>\n",
       "<p>1000 rows × 1 columns</p>\n",
       "</div>"
      ],
      "text/plain": [
       "        timestamp\n",
       "0    1.607202e+09\n",
       "1    1.607202e+09\n",
       "2    1.607202e+09\n",
       "3    1.607202e+09\n",
       "4    1.607202e+09\n",
       "..            ...\n",
       "995  1.607202e+09\n",
       "996  1.607202e+09\n",
       "997  1.607202e+09\n",
       "998  1.607202e+09\n",
       "999  1.607202e+09\n",
       "\n",
       "[1000 rows x 1 columns]"
      ]
     },
     "execution_count": 7,
     "metadata": {
      "tags": []
     },
     "output_type": "execute_result"
    }
   ],
   "source": [
    "df = df.iloc[:1000,:]\n",
    "df"
   ]
  },
  {
   "cell_type": "code",
   "execution_count": 8,
   "metadata": {
    "colab": {
     "base_uri": "https://localhost:8080/",
     "height": 419
    },
    "id": "czGn_N3VB9cm",
    "outputId": "51661608-1c2f-45e1-d7ff-370ffc2b4612"
   },
   "outputs": [
    {
     "data": {
      "text/html": [
       "<div>\n",
       "<style scoped>\n",
       "    .dataframe tbody tr th:only-of-type {\n",
       "        vertical-align: middle;\n",
       "    }\n",
       "\n",
       "    .dataframe tbody tr th {\n",
       "        vertical-align: top;\n",
       "    }\n",
       "\n",
       "    .dataframe thead th {\n",
       "        text-align: right;\n",
       "    }\n",
       "</style>\n",
       "<table border=\"1\" class=\"dataframe\">\n",
       "  <thead>\n",
       "    <tr style=\"text-align: right;\">\n",
       "      <th></th>\n",
       "      <th>timestamp</th>\n",
       "    </tr>\n",
       "  </thead>\n",
       "  <tbody>\n",
       "    <tr>\n",
       "      <th>227</th>\n",
       "      <td>1.607202e+09</td>\n",
       "    </tr>\n",
       "    <tr>\n",
       "      <th>511</th>\n",
       "      <td>1.607202e+09</td>\n",
       "    </tr>\n",
       "    <tr>\n",
       "      <th>459</th>\n",
       "      <td>1.607202e+09</td>\n",
       "    </tr>\n",
       "    <tr>\n",
       "      <th>153</th>\n",
       "      <td>1.607202e+09</td>\n",
       "    </tr>\n",
       "    <tr>\n",
       "      <th>298</th>\n",
       "      <td>1.607202e+09</td>\n",
       "    </tr>\n",
       "    <tr>\n",
       "      <th>...</th>\n",
       "      <td>...</td>\n",
       "    </tr>\n",
       "    <tr>\n",
       "      <th>738</th>\n",
       "      <td>1.607202e+09</td>\n",
       "    </tr>\n",
       "    <tr>\n",
       "      <th>80</th>\n",
       "      <td>1.607202e+09</td>\n",
       "    </tr>\n",
       "    <tr>\n",
       "      <th>51</th>\n",
       "      <td>1.607202e+09</td>\n",
       "    </tr>\n",
       "    <tr>\n",
       "      <th>497</th>\n",
       "      <td>1.607202e+09</td>\n",
       "    </tr>\n",
       "    <tr>\n",
       "      <th>676</th>\n",
       "      <td>1.607202e+09</td>\n",
       "    </tr>\n",
       "  </tbody>\n",
       "</table>\n",
       "<p>1000 rows × 1 columns</p>\n",
       "</div>"
      ],
      "text/plain": [
       "        timestamp\n",
       "227  1.607202e+09\n",
       "511  1.607202e+09\n",
       "459  1.607202e+09\n",
       "153  1.607202e+09\n",
       "298  1.607202e+09\n",
       "..            ...\n",
       "738  1.607202e+09\n",
       "80   1.607202e+09\n",
       "51   1.607202e+09\n",
       "497  1.607202e+09\n",
       "676  1.607202e+09\n",
       "\n",
       "[1000 rows x 1 columns]"
      ]
     },
     "execution_count": 8,
     "metadata": {
      "tags": []
     },
     "output_type": "execute_result"
    }
   ],
   "source": [
    "df.sample(frac=1)"
   ]
  },
  {
   "cell_type": "code",
   "execution_count": 9,
   "metadata": {
    "id": "r3cOuYxYqz37"
   },
   "outputs": [],
   "source": [
    "df.to_csv(\"createdAtdata.csv\", index = False)"
   ]
  }
 ],
 "metadata": {
  "colab": {
   "name": "A4_Basic Data Analysis and Presentation using R.ipynb",
   "provenance": []
  },
  "kernelspec": {
   "display_name": "Python 3",
   "language": "python",
   "name": "python3"
  },
  "language_info": {
   "codemirror_mode": {
    "name": "ipython",
    "version": 3
   },
   "file_extension": ".py",
   "mimetype": "text/x-python",
   "name": "python",
   "nbconvert_exporter": "python",
   "pygments_lexer": "ipython3",
   "version": "3.8.5"
  }
 },
 "nbformat": 4,
 "nbformat_minor": 1
}
